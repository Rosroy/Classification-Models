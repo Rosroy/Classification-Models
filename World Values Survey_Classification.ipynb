{
 "cells": [
  {
   "cell_type": "code",
   "execution_count": 44,
   "metadata": {},
   "outputs": [
    {
     "name": "stdout",
     "output_type": "stream",
     "text": [
      "IPython version:       7.6.1 (need at least 1.0)\n",
      "Numpy version:        1.16.4 (need at least 1.7.1)\n",
      "SciPy version:         1.2.1 (need at least 0.12.0)\n",
      "Pandas version:       0.24.2 (need at least 0.11.0)\n",
      "Mapltolib version:     3.1.0 (need at least 1.2.1)\n",
      "Scikit-Learn version: 0.21.2 (need at least 0.13.1)\n",
      "Seaborn version:  0.9.0 (need at least 0.13.1)\n"
     ]
    }
   ],
   "source": [
    "#IPython is what you are using now to run the notebook\n",
    "import IPython\n",
    "print( \"IPython version:      %6.6s (need at least 1.0)\" % IPython.__version__)\n",
    "\n",
    "# Numpy is a library for working with arrays and matrices\n",
    "import numpy as np\n",
    "print( \"Numpy version:        %6.6s (need at least 1.7.1)\" % np.__version__)\n",
    "\n",
    "# SciPy implements many different numerical algorithms\n",
    "import scipy as sp\n",
    "print( \"SciPy version:        %6.6s (need at least 0.12.0)\" % sp.__version__)\n",
    "\n",
    "# Pandas makes working with data tables easier\n",
    "import pandas as pd\n",
    "print( \"Pandas version:       %6.6s (need at least 0.11.0)\" % pd.__version__)\n",
    "\n",
    "# Module for plotting\n",
    "import matplotlib.pyplot as plt  \n",
    "from pylab import *\n",
    "print( \"Mapltolib version:    %6.6s (need at least 1.2.1)\" %\n",
    "       matplotlib.__version__)\n",
    "%matplotlib inline\n",
    "# necessary for in-line graphics\n",
    "\n",
    "# SciKit Learn implements several Machine Learning algorithms\n",
    "import sklearn\n",
    "print( \"Scikit-Learn version: %6.6s (need at least 0.13.1)\" %\n",
    "       sklearn.__version__)\n",
    "import os\n",
    "# for certain system-related functions\n",
    "\n",
    "import seaborn as sns\n",
    "print( \"Seaborn version: %6.6s (need at least 0.13.1)\" %\n",
    "       sns.__version__)\n",
    "\n",
    "from sklearn.neighbors import KNeighborsClassifier\n",
    "from sklearn.linear_model import LogisticRegression\n",
    "from sklearn.svm import SVC"
   ]
  },
  {
   "cell_type": "markdown",
   "metadata": {},
   "source": [
    "### 1 Explore and prepare the data "
   ]
  },
  {
   "cell_type": "code",
   "execution_count": 45,
   "metadata": {
    "scrolled": false
   },
   "outputs": [
    {
     "name": "stdout",
     "output_type": "stream",
     "text": [
      "   V2  V4  V5  V6  V7  V8  V9  V10  V11  V12  ...  MN_228S8  MN_229A  MN_230A  \\\n",
      "0  12   1   1   1  -2   1   1    2    1    1  ...         3       -3       -3   \n",
      "1  12   1   2   3   4   2   2    2    2    2  ...         3       -3       -3   \n",
      "2  12   1   3   2   4   2   1    2    2    2  ...         4        1        1   \n",
      "3  12   1   1   3   4   3   1    2    1    2  ...         2        2        1   \n",
      "4  12   1   1   1   2   1   1    1    3    2  ...         2        2        1   \n",
      "\n",
      "   MN_233A  MN_237B1  MN_249A1  MN_249A3  I_RELIGBEL  I_NORM1  I_VOICE1  \n",
      "0       -3        -3         1         1         0.0      1.0      0.00  \n",
      "1       -3        -3         2        -1         0.0      1.0      0.66  \n",
      "2        2        -3         1         1         0.0      1.0      0.33  \n",
      "3        2        -3         1         2         0.0      1.0      0.00  \n",
      "4        2        -3         1         2         0.0      1.0      0.66  \n",
      "\n",
      "[5 rows x 328 columns]\n",
      "Number of rows and columns in the data (90350, 328)\n",
      "Columns in the dataset Index(['V2', 'V4', 'V5', 'V6', 'V7', 'V8', 'V9', 'V10', 'V11', 'V12',\n",
      "       ...\n",
      "       'MN_228S8', 'MN_229A', 'MN_230A', 'MN_233A', 'MN_237B1', 'MN_249A1',\n",
      "       'MN_249A3', 'I_RELIGBEL', 'I_NORM1', 'I_VOICE1'],\n",
      "      dtype='object', length=328)\n",
      "Summary statistics of the dataset\n",
      "                V2            V4            V5            V6            V7  \\\n",
      "count  90350.00000  90350.000000  90350.000000  90350.000000  90350.000000   \n",
      "mean     467.39803      1.094422      1.661738      1.852872      2.544638   \n",
      "std      248.45177      0.405737      0.777382      0.914146      1.113079   \n",
      "min       12.00000     -5.000000     -5.000000     -5.000000     -5.000000   \n",
      "25%      276.00000      1.000000      1.000000      1.000000      2.000000   \n",
      "50%      434.00000      1.000000      2.000000      2.000000      3.000000   \n",
      "75%      702.00000      1.000000      2.000000      2.000000      3.000000   \n",
      "max      887.00000      4.000000      4.000000      4.000000      4.000000   \n",
      "\n",
      "                 V8            V9           V10           V11           V12  \\\n",
      "count  90350.000000  90350.000000  90350.000000  90350.000000  90350.000000   \n",
      "mean       1.470293      1.834566      1.831334      2.077731      1.476989   \n",
      "std        0.948833      1.115576      0.796195      0.880672      0.505486   \n",
      "min       -5.000000     -5.000000     -5.000000     -5.000000     -5.000000   \n",
      "25%        1.000000      1.000000      1.000000      1.000000      1.000000   \n",
      "50%        1.000000      1.000000      2.000000      2.000000      1.000000   \n",
      "75%        2.000000      3.000000      2.000000      3.000000      2.000000   \n",
      "max        4.000000      4.000000      4.000000      4.000000      2.000000   \n",
      "\n",
      "       ...      MN_228S8       MN_229A       MN_230A       MN_233A  \\\n",
      "count  ...  90350.000000  90350.000000  90350.000000  90350.000000   \n",
      "mean   ...     -3.351942     -3.444538     -3.576193     -3.512053   \n",
      "std    ...      1.958910      1.664554      1.415837      1.678706   \n",
      "min    ...     -4.000000     -4.000000     -4.000000     -4.000000   \n",
      "25%    ...     -4.000000     -4.000000     -4.000000     -4.000000   \n",
      "50%    ...     -4.000000     -4.000000     -4.000000     -4.000000   \n",
      "75%    ...     -4.000000     -4.000000     -4.000000     -4.000000   \n",
      "max    ...      4.000000      2.000000      2.000000      5.000000   \n",
      "\n",
      "           MN_237B1      MN_249A1      MN_249A3    I_RELIGBEL       I_NORM1  \\\n",
      "count  90350.000000  90350.000000  90350.000000  85714.000000  88639.000000   \n",
      "mean      -3.818771     -3.511942     -3.519712      0.318618      0.463351   \n",
      "std        0.715046      1.514230      1.501295      0.465943      0.498658   \n",
      "min       -4.000000     -5.000000     -5.000000      0.000000      0.000000   \n",
      "25%       -4.000000     -4.000000     -4.000000      0.000000      0.000000   \n",
      "50%       -4.000000     -4.000000     -4.000000      0.000000      0.000000   \n",
      "75%       -4.000000     -4.000000     -4.000000      1.000000      1.000000   \n",
      "max        1.000000      2.000000      2.000000      1.000000      1.000000   \n",
      "\n",
      "           I_VOICE1  \n",
      "count  85905.000000  \n",
      "mean       0.333420  \n",
      "std        0.315851  \n",
      "min        0.000000  \n",
      "25%        0.000000  \n",
      "50%        0.330000  \n",
      "75%        0.660000  \n",
      "max        1.000000  \n",
      "\n",
      "[8 rows x 328 columns]\n"
     ]
    }
   ],
   "source": [
    "data=pd.read_csv(\"C:/Users/roshn/Desktop/IMT 574A/wvs.csv\",sep='\\t')\n",
    "data=pd.DataFrame(data)\n",
    "\n",
    "#Checking for the top 5 rows \n",
    "\n",
    "print(data.head(5))\n",
    "\n",
    "#Size of the dataset\n",
    "print(\"Number of rows and columns in the data\",data.shape)\n",
    "\n",
    "#Columns in the dataset\n",
    "print(\"Columns in the dataset\",data.columns)\n",
    "\n",
    "#description of the dataset\n",
    "print(\"Summary statistics of the dataset\")\n",
    "print(data.describe())\n"
   ]
  },
  {
   "cell_type": "markdown",
   "metadata": {},
   "source": [
    "### 1.1 Number of responses and predictors"
   ]
  },
  {
   "cell_type": "code",
   "execution_count": 46,
   "metadata": {},
   "outputs": [
    {
     "name": "stdout",
     "output_type": "stream",
     "text": [
      "Number of Responses -  90350\n",
      "Number of variables -  328\n"
     ]
    }
   ],
   "source": [
    "print(\"Number of Responses - \", data.shape[0])\n",
    "print(\"Number of variables - \",data.shape[1])"
   ]
  },
  {
   "cell_type": "markdown",
   "metadata": {},
   "source": [
    "### 1.2 Summary statistics for V204 : is abortion justifiable"
   ]
  },
  {
   "cell_type": "code",
   "execution_count": 47,
   "metadata": {},
   "outputs": [
    {
     "name": "stdout",
     "output_type": "stream",
     "text": [
      "Summary statistics of V204-Abortion\n",
      "count    90350.000000\n",
      "mean         2.946386\n",
      "std          2.964040\n",
      "min         -5.000000\n",
      "25%          1.000000\n",
      "50%          2.000000\n",
      "75%          5.000000\n",
      "max         10.000000\n",
      "Name: V204, dtype: float64\n",
      " 1     40227\n",
      " 5      9580\n",
      " 2      7896\n",
      " 3      6294\n",
      " 4      4497\n",
      " 6      4395\n",
      " 10     4067\n",
      " 7      3493\n",
      " 8      3397\n",
      "-1      2017\n",
      " 9      1896\n",
      "-4      1523\n",
      "-2      1045\n",
      "-5        23\n",
      "Name: V204, dtype: int64\n",
      "Number of non missing values(positives)\n",
      "85742\n",
      "Number of missing values(negatives)\n",
      "4608\n"
     ]
    }
   ],
   "source": [
    "#Summary statistics of the data column\n",
    "print(\"Summary statistics of V204-Abortion\")\n",
    "print(data.V204.describe())\n",
    "\n",
    "\n",
    "#Count of values in V204 column\n",
    "print(data.V204.value_counts())\n",
    "\n",
    "\n",
    "\n",
    "#Count of non-missing values\n",
    "print(\"Number of non missing values(positives)\")\n",
    "print(len(data.loc[data.V204 > 0]))\n",
    "\n",
    "\n",
    "#Count of negative values\n",
    "print(\"Number of missing values(negatives)\")\n",
    "print(len(data.loc[data.V204 < 0]))"
   ]
  },
  {
   "cell_type": "code",
   "execution_count": 48,
   "metadata": {},
   "outputs": [
    {
     "name": "stdout",
     "output_type": "stream",
     "text": [
      "probability of opinion 1 46.92\n",
      "probability of opinion 5 11.17\n",
      "probability of opinion 4 5.24\n",
      "probability of opinion 6 5.13\n",
      "probability of opinion 2 9.21\n",
      "probability of opinion 3 7.34\n",
      "probability of opinion 10 4.74\n",
      "probability of opinion 7 4.07\n",
      "probability of opinion 8 3.96\n",
      "probability of opinion 9 2.21\n"
     ]
    }
   ],
   "source": [
    "val1 = data['V204']\n",
    "list1 = val1[val1>0].unique()\n",
    "\n",
    "def prob(num):\n",
    "    positive_resp = 85742\n",
    "    prob = (len(val1[val1 == num]) / positive_resp)*100\n",
    "    return prob \n",
    "    \n",
    "prod_1 = prob(1)\n",
    "for i in list1:\n",
    "    prob_value = prob(i) \n",
    "    print(\"probability of opinion\" , i , round(prob_value,2))"
   ]
  },
  {
   "cell_type": "markdown",
   "metadata": {},
   "source": [
    "### 1.3  Now remove missings - remove everything that are not positive integers for V204 and V2 (country)."
   ]
  },
  {
   "cell_type": "code",
   "execution_count": 49,
   "metadata": {},
   "outputs": [
    {
     "name": "stdout",
     "output_type": "stream",
     "text": [
      "Total number of rows after dropping 85742\n",
      "(85742, 328)\n"
     ]
    }
   ],
   "source": [
    "#Removing the missing data by the first way: everything that are not positive integers for V204 and V2 (country)\n",
    "#Copy dataset\n",
    "cdata=data.copy()\n",
    "cdata.head()\n",
    "\n",
    "#Dropping values from V204\n",
    "cdata=cdata[cdata.V204>0]\n",
    "print(\"Total number of rows after dropping\",len(cdata))\n",
    "\n",
    "#Checking if the values <0 got dropped from V204 column\n",
    "len(cdata.loc[cdata.V204 < 0])\n",
    "\n",
    "#Dropping values from V2\n",
    "cdata=cdata[cdata.V2>0]\n",
    "\n",
    "\n",
    "#Checking if the values <0 got dropped from V2 column\n",
    "len(cdata.loc[cdata.V2 < 0])\n",
    "\n",
    "print(cdata.shape)\n"
   ]
  },
  {
   "cell_type": "markdown",
   "metadata": {},
   "source": [
    "### 1.3 b)For all other variables, remove the missings in the sense of missing value on computer."
   ]
  },
  {
   "cell_type": "code",
   "execution_count": 52,
   "metadata": {
    "scrolled": true
   },
   "outputs": [
    {
     "name": "stdout",
     "output_type": "stream",
     "text": [
      "(79267, 329)\n"
     ]
    }
   ],
   "source": [
    "# Drop rows with any NA values in the selected columns only, except V2 and V204\n",
    "cdata=cdata.dropna()\n",
    "\n",
    "#print(\"Number of observations in the cleaned dataset:\")\n",
    "print(cdata.shape)\n",
    "\n",
    "\n"
   ]
  },
  {
   "cell_type": "markdown",
   "metadata": {},
   "source": [
    "### 1.4:  In order to simplify the analysis below, create a new binary variable abortion:\n",
    "#### (1 when V204 > 3 ) (0 for other cases)"
   ]
  },
  {
   "cell_type": "code",
   "execution_count": 53,
   "metadata": {},
   "outputs": [
    {
     "data": {
      "text/html": [
       "<div>\n",
       "<style scoped>\n",
       "    .dataframe tbody tr th:only-of-type {\n",
       "        vertical-align: middle;\n",
       "    }\n",
       "\n",
       "    .dataframe tbody tr th {\n",
       "        vertical-align: top;\n",
       "    }\n",
       "\n",
       "    .dataframe thead th {\n",
       "        text-align: right;\n",
       "    }\n",
       "</style>\n",
       "<table border=\"1\" class=\"dataframe\">\n",
       "  <thead>\n",
       "    <tr style=\"text-align: right;\">\n",
       "      <th></th>\n",
       "      <th>V2</th>\n",
       "      <th>V4</th>\n",
       "      <th>V5</th>\n",
       "      <th>V6</th>\n",
       "      <th>V7</th>\n",
       "      <th>V8</th>\n",
       "      <th>V9</th>\n",
       "      <th>V10</th>\n",
       "      <th>V11</th>\n",
       "      <th>V12</th>\n",
       "      <th>...</th>\n",
       "      <th>MN_229A</th>\n",
       "      <th>MN_230A</th>\n",
       "      <th>MN_233A</th>\n",
       "      <th>MN_237B1</th>\n",
       "      <th>MN_249A1</th>\n",
       "      <th>MN_249A3</th>\n",
       "      <th>I_RELIGBEL</th>\n",
       "      <th>I_NORM1</th>\n",
       "      <th>I_VOICE1</th>\n",
       "      <th>Abortion</th>\n",
       "    </tr>\n",
       "  </thead>\n",
       "  <tbody>\n",
       "    <tr>\n",
       "      <th>0</th>\n",
       "      <td>12</td>\n",
       "      <td>1</td>\n",
       "      <td>1</td>\n",
       "      <td>1</td>\n",
       "      <td>-2</td>\n",
       "      <td>1</td>\n",
       "      <td>1</td>\n",
       "      <td>2</td>\n",
       "      <td>1</td>\n",
       "      <td>1</td>\n",
       "      <td>...</td>\n",
       "      <td>-3</td>\n",
       "      <td>-3</td>\n",
       "      <td>-3</td>\n",
       "      <td>-3</td>\n",
       "      <td>1</td>\n",
       "      <td>1</td>\n",
       "      <td>0.0</td>\n",
       "      <td>1.0</td>\n",
       "      <td>0.00</td>\n",
       "      <td>0</td>\n",
       "    </tr>\n",
       "    <tr>\n",
       "      <th>1</th>\n",
       "      <td>12</td>\n",
       "      <td>1</td>\n",
       "      <td>2</td>\n",
       "      <td>3</td>\n",
       "      <td>4</td>\n",
       "      <td>2</td>\n",
       "      <td>2</td>\n",
       "      <td>2</td>\n",
       "      <td>2</td>\n",
       "      <td>2</td>\n",
       "      <td>...</td>\n",
       "      <td>-3</td>\n",
       "      <td>-3</td>\n",
       "      <td>-3</td>\n",
       "      <td>-3</td>\n",
       "      <td>2</td>\n",
       "      <td>-1</td>\n",
       "      <td>0.0</td>\n",
       "      <td>1.0</td>\n",
       "      <td>0.66</td>\n",
       "      <td>0</td>\n",
       "    </tr>\n",
       "    <tr>\n",
       "      <th>2</th>\n",
       "      <td>12</td>\n",
       "      <td>1</td>\n",
       "      <td>3</td>\n",
       "      <td>2</td>\n",
       "      <td>4</td>\n",
       "      <td>2</td>\n",
       "      <td>1</td>\n",
       "      <td>2</td>\n",
       "      <td>2</td>\n",
       "      <td>2</td>\n",
       "      <td>...</td>\n",
       "      <td>1</td>\n",
       "      <td>1</td>\n",
       "      <td>2</td>\n",
       "      <td>-3</td>\n",
       "      <td>1</td>\n",
       "      <td>1</td>\n",
       "      <td>0.0</td>\n",
       "      <td>1.0</td>\n",
       "      <td>0.33</td>\n",
       "      <td>0</td>\n",
       "    </tr>\n",
       "  </tbody>\n",
       "</table>\n",
       "<p>3 rows × 329 columns</p>\n",
       "</div>"
      ],
      "text/plain": [
       "   V2  V4  V5  V6  V7  V8  V9  V10  V11  V12  ...  MN_229A  MN_230A  MN_233A  \\\n",
       "0  12   1   1   1  -2   1   1    2    1    1  ...       -3       -3       -3   \n",
       "1  12   1   2   3   4   2   2    2    2    2  ...       -3       -3       -3   \n",
       "2  12   1   3   2   4   2   1    2    2    2  ...        1        1        2   \n",
       "\n",
       "   MN_237B1  MN_249A1  MN_249A3  I_RELIGBEL  I_NORM1  I_VOICE1  Abortion  \n",
       "0        -3         1         1         0.0      1.0      0.00         0  \n",
       "1        -3         2        -1         0.0      1.0      0.66         0  \n",
       "2        -3         1         1         0.0      1.0      0.33         0  \n",
       "\n",
       "[3 rows x 329 columns]"
      ]
     },
     "execution_count": 53,
     "metadata": {},
     "output_type": "execute_result"
    }
   ],
   "source": [
    "#Creating new binary variables in V204\n",
    "cdata['Abortion']=np.where(cdata.V204>3, 1, 0)\n",
    "cdata.head(3)\n"
   ]
  },
  {
   "cell_type": "markdown",
   "metadata": {},
   "source": [
    "### 1.5  Compute (pearson) correlation table between abortion and all other variables in the data. Present these variables in descending order according to the absolute value of the correlation."
   ]
  },
  {
   "cell_type": "code",
   "execution_count": 74,
   "metadata": {},
   "outputs": [
    {
     "data": {
      "text/plain": [
       "V205    0.548653\n",
       "V203    0.485419\n",
       "V206    0.446394\n",
       "V207    0.418271\n",
       "V9      0.314117\n",
       "Name: Abortion, dtype: float64"
      ]
     },
     "execution_count": 74,
     "metadata": {},
     "output_type": "execute_result"
    }
   ],
   "source": [
    "#Dropping the v204 variable from the data\n",
    "cdata_copy=cdata.copy()\n",
    "cdata_copy=pd.DataFrame(cdata_copy)\n",
    "cdata=cdata.drop(['V204'], axis=1)\n",
    "cdata.head(3)\n",
    "\n",
    "#Correlation between Abortion and other variables in the data\n",
    "\n",
    "corrMatrix=cdata[cdata.columns[1:]].corr()['Abortion'][:-1].sort_values(ascending=False)\n",
    "corrMatrix.head(5)\n",
    "\n",
    "\n"
   ]
  },
  {
   "cell_type": "markdown",
   "metadata": {},
   "source": [
    "### 1.6 Convert Country Code V2 into dummies. First rename V2 to Country"
   ]
  },
  {
   "cell_type": "code",
   "execution_count": null,
   "metadata": {},
   "outputs": [],
   "source": [
    "print(\"The data contains 57 dummies\")"
   ]
  },
  {
   "cell_type": "code",
   "execution_count": 76,
   "metadata": {},
   "outputs": [
    {
     "name": "stdout",
     "output_type": "stream",
     "text": [
      "(79267, 384)\n"
     ]
    }
   ],
   "source": [
    "cdata = cdata.rename(columns = {'V2' : 'country'})\n",
    "\n",
    "cdata.shape\n",
    "cdata_copy_1 = pd.get_dummies(cdata, columns = ['country'],drop_first=True)\n",
    "print(cdata_copy_1.shape)\n",
    "cdata_copy_1 = pd.DataFrame(cdata_copy_1)"
   ]
  },
  {
   "cell_type": "markdown",
   "metadata": {},
   "source": [
    "### 2) Implement Cross-Validation"
   ]
  },
  {
   "cell_type": "code",
   "execution_count": 56,
   "metadata": {},
   "outputs": [],
   "source": [
    "def cross_validation(model, X,y,k=6):\n",
    "   \n",
    "    from sklearn.model_selection import KFold\n",
    "    from sklearn.svm import SVR\n",
    "    from sklearn.metrics import accuracy_score\n",
    "    from sklearn.metrics import f1_score, precision_score, recall_score\n",
    "    \n",
    "    #Obtaining the index values of X and y\n",
    "    X_indices = np.asarray(X.index)\n",
    "    y_indices = np.asarray(y.index)\n",
    "    X_set = set(X_indices.tolist())\n",
    "    \n",
    "    accuracy1 = []\n",
    "    score_accuracy = []\n",
    "    precision = []\n",
    "    recall = []\n",
    "    \n",
    "    for i in range(k):\n",
    "       \n",
    "        validation_indices = set(X_indices[i : : 6].tolist())\n",
    "        train_indices  = X_set.difference(validation_indices) \n",
    "        \n",
    "        validation_X = X.loc[validation_indices]\n",
    "        validation_y = y.loc[validation_indices]\n",
    "        \n",
    "        train_X = X.loc[train_indices]\n",
    "        train_y = y.loc[train_indices]\n",
    "        \n",
    "        model.fit(train_X, train_y)\n",
    "        \n",
    "        y_pred = model.predict(validation_X)\n",
    "        \n",
    "        accuracy = accuracy_score(validation_y, y_pred)\n",
    "        accuracy1.append(accuracy) \n",
    "        \n",
    "        \n",
    "        score = f1_score(validation_y, y_pred)\n",
    "        score_accuracy.append(score)\n",
    "        \n",
    "        precision.append(precision_score(validation_y, y_pred, average=\"macro\"))\n",
    "        recall.append(recall_score(validation_y, y_pred, average=\"macro\"))\n",
    "        \n",
    "    accuracy  =accuracy1\n",
    "    score_accuracy = score_accuracy\n",
    "    \n",
    "      \n",
    "        \n",
    "    return ( (round(np.mean(accuracy) ,2 )) , (round(np.mean(score_accuracy) , 2)) , precision , recall )\n",
    "    \n",
    "    \n",
    "    "
   ]
  },
  {
   "cell_type": "markdown",
   "metadata": {},
   "source": [
    "### 3.1) Implementation of KNN"
   ]
  },
  {
   "cell_type": "code",
   "execution_count": 57,
   "metadata": {},
   "outputs": [],
   "source": [
    "#Randomly sampling the data\n",
    "cdata_copy_crossvalidation = cdata_copy.sample(4000)"
   ]
  },
  {
   "cell_type": "code",
   "execution_count": 58,
   "metadata": {},
   "outputs": [
    {
     "name": "stderr",
     "output_type": "stream",
     "text": [
      "C:\\Users\\roshn\\Anaconda3\\lib\\site-packages\\ipykernel_launcher.py:29: DataConversionWarning: A column-vector y was passed when a 1d array was expected. Please change the shape of y to (n_samples, ), for example using ravel().\n",
      "C:\\Users\\roshn\\Anaconda3\\lib\\site-packages\\ipykernel_launcher.py:29: DataConversionWarning: A column-vector y was passed when a 1d array was expected. Please change the shape of y to (n_samples, ), for example using ravel().\n",
      "C:\\Users\\roshn\\Anaconda3\\lib\\site-packages\\ipykernel_launcher.py:29: DataConversionWarning: A column-vector y was passed when a 1d array was expected. Please change the shape of y to (n_samples, ), for example using ravel().\n",
      "C:\\Users\\roshn\\Anaconda3\\lib\\site-packages\\ipykernel_launcher.py:29: DataConversionWarning: A column-vector y was passed when a 1d array was expected. Please change the shape of y to (n_samples, ), for example using ravel().\n",
      "C:\\Users\\roshn\\Anaconda3\\lib\\site-packages\\ipykernel_launcher.py:29: DataConversionWarning: A column-vector y was passed when a 1d array was expected. Please change the shape of y to (n_samples, ), for example using ravel().\n",
      "C:\\Users\\roshn\\Anaconda3\\lib\\site-packages\\ipykernel_launcher.py:29: DataConversionWarning: A column-vector y was passed when a 1d array was expected. Please change the shape of y to (n_samples, ), for example using ravel().\n"
     ]
    },
    {
     "name": "stdout",
     "output_type": "stream",
     "text": [
      "mean accuracy of Knn is  0.75\n",
      "mean F1 score of Knn is  0.64\n"
     ]
    },
    {
     "name": "stderr",
     "output_type": "stream",
     "text": [
      "C:\\Users\\roshn\\Anaconda3\\lib\\site-packages\\ipykernel_launcher.py:29: DataConversionWarning: A column-vector y was passed when a 1d array was expected. Please change the shape of y to (n_samples, ), for example using ravel().\n"
     ]
    }
   ],
   "source": [
    "# Choosing X and y from the sampled data\n",
    "X = cdata_copy_crossvalidation.loc[:, cdata_copy_crossvalidation.columns != 'Abortion']\n",
    "y = cdata_copy_crossvalidation.loc[:, cdata_copy_crossvalidation.columns == 'Abortion']\n",
    "\n",
    "\n",
    "k = 7\n",
    "knn_classifier = KNeighborsClassifier(n_neighbors = 7)\n",
    "validation1 , validation2 , validation11 , validation22 = cross_validation(knn_classifier,X,y,k)\n",
    "print(\"mean accuracy of Knn is \", validation1)\n",
    "print(\"mean F1 score of Knn is \", validation2)\n"
   ]
  },
  {
   "cell_type": "code",
   "execution_count": 59,
   "metadata": {},
   "outputs": [
    {
     "name": "stderr",
     "output_type": "stream",
     "text": [
      "C:\\Users\\roshn\\Anaconda3\\lib\\site-packages\\ipykernel_launcher.py:29: DataConversionWarning: A column-vector y was passed when a 1d array was expected. Please change the shape of y to (n_samples, ), for example using ravel().\n",
      "C:\\Users\\roshn\\Anaconda3\\lib\\site-packages\\ipykernel_launcher.py:29: DataConversionWarning: A column-vector y was passed when a 1d array was expected. Please change the shape of y to (n_samples, ), for example using ravel().\n",
      "C:\\Users\\roshn\\Anaconda3\\lib\\site-packages\\ipykernel_launcher.py:29: DataConversionWarning: A column-vector y was passed when a 1d array was expected. Please change the shape of y to (n_samples, ), for example using ravel().\n",
      "C:\\Users\\roshn\\Anaconda3\\lib\\site-packages\\ipykernel_launcher.py:29: DataConversionWarning: A column-vector y was passed when a 1d array was expected. Please change the shape of y to (n_samples, ), for example using ravel().\n",
      "C:\\Users\\roshn\\Anaconda3\\lib\\site-packages\\ipykernel_launcher.py:29: DataConversionWarning: A column-vector y was passed when a 1d array was expected. Please change the shape of y to (n_samples, ), for example using ravel().\n",
      "C:\\Users\\roshn\\Anaconda3\\lib\\site-packages\\ipykernel_launcher.py:29: DataConversionWarning: A column-vector y was passed when a 1d array was expected. Please change the shape of y to (n_samples, ), for example using ravel().\n",
      "C:\\Users\\roshn\\Anaconda3\\lib\\site-packages\\ipykernel_launcher.py:29: DataConversionWarning: A column-vector y was passed when a 1d array was expected. Please change the shape of y to (n_samples, ), for example using ravel().\n",
      "C:\\Users\\roshn\\Anaconda3\\lib\\site-packages\\ipykernel_launcher.py:29: DataConversionWarning: A column-vector y was passed when a 1d array was expected. Please change the shape of y to (n_samples, ), for example using ravel().\n",
      "C:\\Users\\roshn\\Anaconda3\\lib\\site-packages\\ipykernel_launcher.py:29: DataConversionWarning: A column-vector y was passed when a 1d array was expected. Please change the shape of y to (n_samples, ), for example using ravel().\n",
      "C:\\Users\\roshn\\Anaconda3\\lib\\site-packages\\ipykernel_launcher.py:29: DataConversionWarning: A column-vector y was passed when a 1d array was expected. Please change the shape of y to (n_samples, ), for example using ravel().\n",
      "C:\\Users\\roshn\\Anaconda3\\lib\\site-packages\\ipykernel_launcher.py:29: DataConversionWarning: A column-vector y was passed when a 1d array was expected. Please change the shape of y to (n_samples, ), for example using ravel().\n",
      "C:\\Users\\roshn\\Anaconda3\\lib\\site-packages\\ipykernel_launcher.py:29: DataConversionWarning: A column-vector y was passed when a 1d array was expected. Please change the shape of y to (n_samples, ), for example using ravel().\n",
      "C:\\Users\\roshn\\Anaconda3\\lib\\site-packages\\ipykernel_launcher.py:29: DataConversionWarning: A column-vector y was passed when a 1d array was expected. Please change the shape of y to (n_samples, ), for example using ravel().\n",
      "C:\\Users\\roshn\\Anaconda3\\lib\\site-packages\\ipykernel_launcher.py:29: DataConversionWarning: A column-vector y was passed when a 1d array was expected. Please change the shape of y to (n_samples, ), for example using ravel().\n",
      "C:\\Users\\roshn\\Anaconda3\\lib\\site-packages\\ipykernel_launcher.py:29: DataConversionWarning: A column-vector y was passed when a 1d array was expected. Please change the shape of y to (n_samples, ), for example using ravel().\n"
     ]
    },
    {
     "name": "stdout",
     "output_type": "stream",
     "text": [
      "Best value of k with highest accuracy is :    k value     1.00\n",
      "Accuracy    0.72\n",
      "Fscore      0.62\n",
      "Name: 0, dtype: float64  Best value of k with highest f score is: Value of k     1.00\n",
      "Accuracy       0.72\n",
      "Fscore         0.62\n",
      "Name: 0, dtype: float64\n"
     ]
    }
   ],
   "source": [
    "rangek=np.arange(1,6)\n",
    "\n",
    "kaccuracy = []\n",
    "kfscore = []\n",
    "\n",
    "kvalue = []\n",
    "for k in rangek:\n",
    "    knn = KNeighborsClassifier(n_neighbors=k)\n",
    "    accuracy , fscore,precise,recall = cross_validation(knn,X,y,k)\n",
    "    kvalue.append(k)\n",
    "    kaccuracy.append(accuracy)\n",
    "    kfscore.append(fscore)  \n",
    "cdata_copy = list(zip(kvalue,kaccuracy,kfscore))\n",
    "\n",
    "knn_accuracy = pd.DataFrame(cdata_copy , columns=['k value ','Accuracy','Fscore']).sort_values('Accuracy',ascending=False)\n",
    "knn_fscore = pd.DataFrame(cdata_copy , columns=['Value of k ','Accuracy','Fscore']).sort_values('Fscore',ascending=False)\n",
    "print(\"Best value of k with highest accuracy is : \", \" \" ,knn_accuracy.loc[0,],\" Best value of k with highest f score is:\",knn_fscore.loc[0,])\n",
    "\n",
    "#print(\"Best value of k with highest fscore is : \", \" \" ,knn_df_fscore.loc[0,])\n",
    "\n",
    "    "
   ]
  },
  {
   "cell_type": "markdown",
   "metadata": {},
   "source": [
    "### 3.2  Logistic Regression"
   ]
  },
  {
   "cell_type": "code",
   "execution_count": 60,
   "metadata": {},
   "outputs": [
    {
     "name": "stderr",
     "output_type": "stream",
     "text": [
      "C:\\Users\\roshn\\Anaconda3\\lib\\site-packages\\sklearn\\linear_model\\logistic.py:432: FutureWarning: Default solver will be changed to 'lbfgs' in 0.22. Specify a solver to silence this warning.\n",
      "  FutureWarning)\n",
      "C:\\Users\\roshn\\Anaconda3\\lib\\site-packages\\sklearn\\utils\\validation.py:724: DataConversionWarning: A column-vector y was passed when a 1d array was expected. Please change the shape of y to (n_samples, ), for example using ravel().\n",
      "  y = column_or_1d(y, warn=True)\n",
      "C:\\Users\\roshn\\Anaconda3\\lib\\site-packages\\sklearn\\linear_model\\logistic.py:432: FutureWarning: Default solver will be changed to 'lbfgs' in 0.22. Specify a solver to silence this warning.\n",
      "  FutureWarning)\n",
      "C:\\Users\\roshn\\Anaconda3\\lib\\site-packages\\sklearn\\utils\\validation.py:724: DataConversionWarning: A column-vector y was passed when a 1d array was expected. Please change the shape of y to (n_samples, ), for example using ravel().\n",
      "  y = column_or_1d(y, warn=True)\n",
      "C:\\Users\\roshn\\Anaconda3\\lib\\site-packages\\sklearn\\linear_model\\logistic.py:432: FutureWarning: Default solver will be changed to 'lbfgs' in 0.22. Specify a solver to silence this warning.\n",
      "  FutureWarning)\n",
      "C:\\Users\\roshn\\Anaconda3\\lib\\site-packages\\sklearn\\utils\\validation.py:724: DataConversionWarning: A column-vector y was passed when a 1d array was expected. Please change the shape of y to (n_samples, ), for example using ravel().\n",
      "  y = column_or_1d(y, warn=True)\n",
      "C:\\Users\\roshn\\Anaconda3\\lib\\site-packages\\sklearn\\linear_model\\logistic.py:432: FutureWarning: Default solver will be changed to 'lbfgs' in 0.22. Specify a solver to silence this warning.\n",
      "  FutureWarning)\n",
      "C:\\Users\\roshn\\Anaconda3\\lib\\site-packages\\sklearn\\utils\\validation.py:724: DataConversionWarning: A column-vector y was passed when a 1d array was expected. Please change the shape of y to (n_samples, ), for example using ravel().\n",
      "  y = column_or_1d(y, warn=True)\n",
      "C:\\Users\\roshn\\Anaconda3\\lib\\site-packages\\sklearn\\linear_model\\logistic.py:432: FutureWarning: Default solver will be changed to 'lbfgs' in 0.22. Specify a solver to silence this warning.\n",
      "  FutureWarning)\n",
      "C:\\Users\\roshn\\Anaconda3\\lib\\site-packages\\sklearn\\utils\\validation.py:724: DataConversionWarning: A column-vector y was passed when a 1d array was expected. Please change the shape of y to (n_samples, ), for example using ravel().\n",
      "  y = column_or_1d(y, warn=True)\n"
     ]
    },
    {
     "name": "stdout",
     "output_type": "stream",
     "text": [
      "Logistic Regression has a mean accuracy of : 0.81\n",
      "Logistic Regression has a mean F1 score of :  0.74\n"
     ]
    }
   ],
   "source": [
    "logisticmodel= LogisticRegression()\n",
    "\n",
    "validation3 , validation4 , valid33 , valid44 = cross_validation(logisticmodel,X,y,k)\n",
    "print(\"Logistic Regression has a mean accuracy of :\", validation3)\n",
    "print(\"Logistic Regression has a mean F1 score of : \", validation4)\n"
   ]
  },
  {
   "cell_type": "markdown",
   "metadata": {},
   "source": [
    "### 3.3  Support Vector Machines(SVM):\n",
    "#### With linear kernel"
   ]
  },
  {
   "cell_type": "code",
   "execution_count": 61,
   "metadata": {
    "scrolled": true
   },
   "outputs": [
    {
     "name": "stderr",
     "output_type": "stream",
     "text": [
      "C:\\Users\\roshn\\Anaconda3\\lib\\site-packages\\sklearn\\utils\\validation.py:724: DataConversionWarning: A column-vector y was passed when a 1d array was expected. Please change the shape of y to (n_samples, ), for example using ravel().\n",
      "  y = column_or_1d(y, warn=True)\n",
      "C:\\Users\\roshn\\Anaconda3\\lib\\site-packages\\sklearn\\utils\\validation.py:724: DataConversionWarning: A column-vector y was passed when a 1d array was expected. Please change the shape of y to (n_samples, ), for example using ravel().\n",
      "  y = column_or_1d(y, warn=True)\n",
      "C:\\Users\\roshn\\Anaconda3\\lib\\site-packages\\sklearn\\utils\\validation.py:724: DataConversionWarning: A column-vector y was passed when a 1d array was expected. Please change the shape of y to (n_samples, ), for example using ravel().\n",
      "  y = column_or_1d(y, warn=True)\n",
      "C:\\Users\\roshn\\Anaconda3\\lib\\site-packages\\sklearn\\utils\\validation.py:724: DataConversionWarning: A column-vector y was passed when a 1d array was expected. Please change the shape of y to (n_samples, ), for example using ravel().\n",
      "  y = column_or_1d(y, warn=True)\n",
      "C:\\Users\\roshn\\Anaconda3\\lib\\site-packages\\sklearn\\utils\\validation.py:724: DataConversionWarning: A column-vector y was passed when a 1d array was expected. Please change the shape of y to (n_samples, ), for example using ravel().\n",
      "  y = column_or_1d(y, warn=True)\n"
     ]
    },
    {
     "name": "stdout",
     "output_type": "stream",
     "text": [
      "Support Vector Machine(SVM) model with linear kernel has a mean accuracy of :  0.8\n",
      "Support Vector Machine(SVM) model with linear kernel has a mean f1 score of :  0.72\n",
      "precision value of SVM :  0.8149749373433584\n",
      "recall value of SVM :  0.8079398737159551\n"
     ]
    }
   ],
   "source": [
    "#Using a linear kernel\n",
    "svm_model1= SVC(kernel='linear')\n",
    "validation5 , validation6 , valid55 , valid66 = cross_validation(svm_model1,X,y,k)\n",
    "print(\"Support Vector Machine(SVM) model with linear kernel has a mean accuracy of : \", validation5)\n",
    "print(\"Support Vector Machine(SVM) model with linear kernel has a mean f1 score of : \", validation6)\n",
    "print(\"precision value of SVM : \" , valid55[0])\n",
    "print(\"recall value of SVM : \", valid66[0])\n",
    "\n"
   ]
  },
  {
   "cell_type": "markdown",
   "metadata": {},
   "source": [
    "#### With polynomial kernel"
   ]
  },
  {
   "cell_type": "code",
   "execution_count": 39,
   "metadata": {},
   "outputs": [
    {
     "name": "stderr",
     "output_type": "stream",
     "text": [
      "C:\\Users\\roshn\\Anaconda3\\lib\\site-packages\\sklearn\\utils\\validation.py:724: DataConversionWarning: A column-vector y was passed when a 1d array was expected. Please change the shape of y to (n_samples, ), for example using ravel().\n",
      "  y = column_or_1d(y, warn=True)\n",
      "C:\\Users\\roshn\\Anaconda3\\lib\\site-packages\\sklearn\\svm\\base.py:193: FutureWarning: The default value of gamma will change from 'auto' to 'scale' in version 0.22 to account better for unscaled features. Set gamma explicitly to 'auto' or 'scale' to avoid this warning.\n",
      "  \"avoid this warning.\", FutureWarning)\n",
      "C:\\Users\\roshn\\Anaconda3\\lib\\site-packages\\sklearn\\utils\\validation.py:724: DataConversionWarning: A column-vector y was passed when a 1d array was expected. Please change the shape of y to (n_samples, ), for example using ravel().\n",
      "  y = column_or_1d(y, warn=True)\n",
      "C:\\Users\\roshn\\Anaconda3\\lib\\site-packages\\sklearn\\svm\\base.py:193: FutureWarning: The default value of gamma will change from 'auto' to 'scale' in version 0.22 to account better for unscaled features. Set gamma explicitly to 'auto' or 'scale' to avoid this warning.\n",
      "  \"avoid this warning.\", FutureWarning)\n",
      "C:\\Users\\roshn\\Anaconda3\\lib\\site-packages\\sklearn\\utils\\validation.py:724: DataConversionWarning: A column-vector y was passed when a 1d array was expected. Please change the shape of y to (n_samples, ), for example using ravel().\n",
      "  y = column_or_1d(y, warn=True)\n",
      "C:\\Users\\roshn\\Anaconda3\\lib\\site-packages\\sklearn\\svm\\base.py:193: FutureWarning: The default value of gamma will change from 'auto' to 'scale' in version 0.22 to account better for unscaled features. Set gamma explicitly to 'auto' or 'scale' to avoid this warning.\n",
      "  \"avoid this warning.\", FutureWarning)\n",
      "C:\\Users\\roshn\\Anaconda3\\lib\\site-packages\\sklearn\\utils\\validation.py:724: DataConversionWarning: A column-vector y was passed when a 1d array was expected. Please change the shape of y to (n_samples, ), for example using ravel().\n",
      "  y = column_or_1d(y, warn=True)\n",
      "C:\\Users\\roshn\\Anaconda3\\lib\\site-packages\\sklearn\\svm\\base.py:193: FutureWarning: The default value of gamma will change from 'auto' to 'scale' in version 0.22 to account better for unscaled features. Set gamma explicitly to 'auto' or 'scale' to avoid this warning.\n",
      "  \"avoid this warning.\", FutureWarning)\n",
      "C:\\Users\\roshn\\Anaconda3\\lib\\site-packages\\sklearn\\utils\\validation.py:724: DataConversionWarning: A column-vector y was passed when a 1d array was expected. Please change the shape of y to (n_samples, ), for example using ravel().\n",
      "  y = column_or_1d(y, warn=True)\n",
      "C:\\Users\\roshn\\Anaconda3\\lib\\site-packages\\sklearn\\svm\\base.py:193: FutureWarning: The default value of gamma will change from 'auto' to 'scale' in version 0.22 to account better for unscaled features. Set gamma explicitly to 'auto' or 'scale' to avoid this warning.\n",
      "  \"avoid this warning.\", FutureWarning)\n"
     ]
    },
    {
     "name": "stdout",
     "output_type": "stream",
     "text": [
      "mean accuracy of Support Vector Machine with kernel with polynomial kernel:  0.99\n",
      "mean F1 score of Support Vector Machine with kernel with polynomial kernel :  0.99\n"
     ]
    }
   ],
   "source": [
    "svmmodel2 = SVC(kernel='poly', degree=8)\n",
    "validation7 , validation8 , valid77 , valid88 = cross_validation(svmmodel2 ,X,y,k)\n",
    "print(\"mean accuracy of Support Vector Machine with kernel with polynomial kernel: \", validation7)\n",
    "print(\"mean F1 score of Support Vector Machine with kernel with polynomial kernel : \", validation8)\n",
    "\n"
   ]
  },
  {
   "cell_type": "markdown",
   "metadata": {},
   "source": [
    "### 3.4 ) Comparing the models"
   ]
  },
  {
   "cell_type": "markdown",
   "metadata": {},
   "source": [
    "#### 1.After comparing the models , it was found that the best model is SVM with polynomial kernel with an accuracy of 99%.In terms of F-score too, the best model is SVM with polynomial kernel .\n",
    "#### Some of the models are really slow like KNN and SVM while it was also observed that logisic regression runs much faster."
   ]
  },
  {
   "cell_type": "markdown",
   "metadata": {},
   "source": [
    "#### 2. ) If I have to repeat the exercise with a single model  , I will be picking Logistic Regression, since it has a good accuracy and F1 score and also , the model executes fast"
   ]
  },
  {
   "cell_type": "markdown",
   "metadata": {},
   "source": [
    "### 4) How large a role does country play?"
   ]
  },
  {
   "cell_type": "code",
   "execution_count": 66,
   "metadata": {
    "scrolled": true
   },
   "outputs": [
    {
     "name": "stdout",
     "output_type": "stream",
     "text": [
      "With Dummy Variables\n"
     ]
    },
    {
     "name": "stderr",
     "output_type": "stream",
     "text": [
      "C:\\Users\\roshn\\Anaconda3\\lib\\site-packages\\sklearn\\linear_model\\logistic.py:432: FutureWarning: Default solver will be changed to 'lbfgs' in 0.22. Specify a solver to silence this warning.\n",
      "  FutureWarning)\n",
      "C:\\Users\\roshn\\Anaconda3\\lib\\site-packages\\sklearn\\utils\\validation.py:724: DataConversionWarning: A column-vector y was passed when a 1d array was expected. Please change the shape of y to (n_samples, ), for example using ravel().\n",
      "  y = column_or_1d(y, warn=True)\n",
      "C:\\Users\\roshn\\Anaconda3\\lib\\site-packages\\sklearn\\linear_model\\logistic.py:432: FutureWarning: Default solver will be changed to 'lbfgs' in 0.22. Specify a solver to silence this warning.\n",
      "  FutureWarning)\n",
      "C:\\Users\\roshn\\Anaconda3\\lib\\site-packages\\sklearn\\utils\\validation.py:724: DataConversionWarning: A column-vector y was passed when a 1d array was expected. Please change the shape of y to (n_samples, ), for example using ravel().\n",
      "  y = column_or_1d(y, warn=True)\n",
      "C:\\Users\\roshn\\Anaconda3\\lib\\site-packages\\sklearn\\linear_model\\logistic.py:432: FutureWarning: Default solver will be changed to 'lbfgs' in 0.22. Specify a solver to silence this warning.\n",
      "  FutureWarning)\n",
      "C:\\Users\\roshn\\Anaconda3\\lib\\site-packages\\sklearn\\utils\\validation.py:724: DataConversionWarning: A column-vector y was passed when a 1d array was expected. Please change the shape of y to (n_samples, ), for example using ravel().\n",
      "  y = column_or_1d(y, warn=True)\n",
      "C:\\Users\\roshn\\Anaconda3\\lib\\site-packages\\sklearn\\linear_model\\logistic.py:432: FutureWarning: Default solver will be changed to 'lbfgs' in 0.22. Specify a solver to silence this warning.\n",
      "  FutureWarning)\n",
      "C:\\Users\\roshn\\Anaconda3\\lib\\site-packages\\sklearn\\utils\\validation.py:724: DataConversionWarning: A column-vector y was passed when a 1d array was expected. Please change the shape of y to (n_samples, ), for example using ravel().\n",
      "  y = column_or_1d(y, warn=True)\n",
      "C:\\Users\\roshn\\Anaconda3\\lib\\site-packages\\sklearn\\linear_model\\logistic.py:432: FutureWarning: Default solver will be changed to 'lbfgs' in 0.22. Specify a solver to silence this warning.\n",
      "  FutureWarning)\n",
      "C:\\Users\\roshn\\Anaconda3\\lib\\site-packages\\sklearn\\utils\\validation.py:724: DataConversionWarning: A column-vector y was passed when a 1d array was expected. Please change the shape of y to (n_samples, ), for example using ravel().\n",
      "  y = column_or_1d(y, warn=True)\n"
     ]
    },
    {
     "name": "stdout",
     "output_type": "stream",
     "text": [
      "Mean accuracy of Logistic model with dummy variables is:   0.81\n"
     ]
    }
   ],
   "source": [
    "#with dummy variables \n",
    "\n",
    "print(\"With Dummy Variables\")\n",
    "logisticmodel1 = LogisticRegression()\n",
    "validation3 , validation4 , val33 , val44 = cross_validation(logisticmodel1,X,y,k)\n",
    "print(\"Mean accuracy of Logistic model with dummy variables is:  \", validation3)\n",
    "\n"
   ]
  },
  {
   "cell_type": "code",
   "execution_count": 79,
   "metadata": {},
   "outputs": [
    {
     "name": "stderr",
     "output_type": "stream",
     "text": [
      "C:\\Users\\roshn\\Anaconda3\\lib\\site-packages\\sklearn\\linear_model\\logistic.py:432: FutureWarning: Default solver will be changed to 'lbfgs' in 0.22. Specify a solver to silence this warning.\n",
      "  FutureWarning)\n",
      "C:\\Users\\roshn\\Anaconda3\\lib\\site-packages\\sklearn\\utils\\validation.py:724: DataConversionWarning: A column-vector y was passed when a 1d array was expected. Please change the shape of y to (n_samples, ), for example using ravel().\n",
      "  y = column_or_1d(y, warn=True)\n",
      "C:\\Users\\roshn\\Anaconda3\\lib\\site-packages\\sklearn\\linear_model\\logistic.py:432: FutureWarning: Default solver will be changed to 'lbfgs' in 0.22. Specify a solver to silence this warning.\n",
      "  FutureWarning)\n",
      "C:\\Users\\roshn\\Anaconda3\\lib\\site-packages\\sklearn\\utils\\validation.py:724: DataConversionWarning: A column-vector y was passed when a 1d array was expected. Please change the shape of y to (n_samples, ), for example using ravel().\n",
      "  y = column_or_1d(y, warn=True)\n",
      "C:\\Users\\roshn\\Anaconda3\\lib\\site-packages\\sklearn\\linear_model\\logistic.py:432: FutureWarning: Default solver will be changed to 'lbfgs' in 0.22. Specify a solver to silence this warning.\n",
      "  FutureWarning)\n",
      "C:\\Users\\roshn\\Anaconda3\\lib\\site-packages\\sklearn\\utils\\validation.py:724: DataConversionWarning: A column-vector y was passed when a 1d array was expected. Please change the shape of y to (n_samples, ), for example using ravel().\n",
      "  y = column_or_1d(y, warn=True)\n",
      "C:\\Users\\roshn\\Anaconda3\\lib\\site-packages\\sklearn\\linear_model\\logistic.py:432: FutureWarning: Default solver will be changed to 'lbfgs' in 0.22. Specify a solver to silence this warning.\n",
      "  FutureWarning)\n",
      "C:\\Users\\roshn\\Anaconda3\\lib\\site-packages\\sklearn\\utils\\validation.py:724: DataConversionWarning: A column-vector y was passed when a 1d array was expected. Please change the shape of y to (n_samples, ), for example using ravel().\n",
      "  y = column_or_1d(y, warn=True)\n",
      "C:\\Users\\roshn\\Anaconda3\\lib\\site-packages\\sklearn\\linear_model\\logistic.py:432: FutureWarning: Default solver will be changed to 'lbfgs' in 0.22. Specify a solver to silence this warning.\n",
      "  FutureWarning)\n",
      "C:\\Users\\roshn\\Anaconda3\\lib\\site-packages\\sklearn\\utils\\validation.py:724: DataConversionWarning: A column-vector y was passed when a 1d array was expected. Please change the shape of y to (n_samples, ), for example using ravel().\n",
      "  y = column_or_1d(y, warn=True)\n"
     ]
    },
    {
     "name": "stdout",
     "output_type": "stream",
     "text": [
      "mean accuracy of Logistic Regression is without dummy variables is   0.83\n"
     ]
    }
   ],
   "source": [
    "#without dummy variables \n",
    "# Choosing X and y from the sampled data\n",
    "X = cdata.loc[:, cdata.columns != 'Abortion']\n",
    "y = cdata.loc[:, cdata.columns == 'Abortion']\n",
    "\n",
    "\n",
    "X.drop([\"country\"], axis=1 , inplace=True)\n",
    "\n",
    "logisticmodel1 = LogisticRegression()\n",
    "validation30 , validation40 , val330 , val440 = cross_validation(logisticmodel1,X,y,k)\n",
    "print(\"mean accuracy of Logistic Regression is without dummy variables is  \", validation30)\n",
    "\n"
   ]
  },
  {
   "cell_type": "markdown",
   "metadata": {},
   "source": [
    "#### It can be observed that the accuracy increases from 0.81 to 0.83, which is not a very high increase.It can therefore be concluded that country variable doesn't influence our result much,and hence abortion ."
   ]
  },
  {
   "cell_type": "code",
   "execution_count": null,
   "metadata": {},
   "outputs": [],
   "source": []
  }
 ],
 "metadata": {
  "kernelspec": {
   "display_name": "Python 3",
   "language": "python",
   "name": "python3"
  },
  "language_info": {
   "codemirror_mode": {
    "name": "ipython",
    "version": 3
   },
   "file_extension": ".py",
   "mimetype": "text/x-python",
   "name": "python",
   "nbconvert_exporter": "python",
   "pygments_lexer": "ipython3",
   "version": "3.7.3"
  }
 },
 "nbformat": 4,
 "nbformat_minor": 2
}
